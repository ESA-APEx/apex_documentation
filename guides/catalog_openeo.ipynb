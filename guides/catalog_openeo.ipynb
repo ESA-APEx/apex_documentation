{
 "cells": [
  {
   "metadata": {},
   "cell_type": "markdown",
   "source": [
    "# APEx STAC catalog integration with openEO\n",
    "\n",
    "The project catalog provided by APEx can be used in combination with an openEO based platform.\n",
    "\n",
    "Do note that openEO is an open standard, and not all platforms may support all use cases. Also the produced STAC metadata may have differences that are relevant to your project.\n",
    "Therefore we always recommend to check the envisioned use cases with your provider of choice.\n",
    "\n",
    "## Supported use cases\n",
    "\n",
    "1. Scripted upload of openEO generated results into APEx catalog (supported by any openEO instance).\n",
    "2. Direct publishing of results to object storage (requires support for openEO 'workspace' API).\n",
    "3. Direct publishing of results to STAC catalogue (requires support for openEO 'workspace' API, and specifically merging into existing catalog.)\n",
    "\n",
    "## Use case 1: Scripted upload\n",
    "\n",
    "This use case is most broadly supported because it simply takes STAC metadata of openEO job results, downloads it, and then ingests it into a catalog.\n",
    "\n",
    "The most important drawbacks of this method:\n",
    "\n",
    "- Data is first downloaded from openEO backend and then uploaded again, which can take time and bandwidth, and may even be interrupted when facing network instability.\n",
    "- Extra project specific code is needed to perform the task.\n",
    "\n"
   ],
   "id": "8b517f1c39cd4e21"
  },
  {
   "metadata": {},
   "cell_type": "code",
   "outputs": [],
   "execution_count": null,
   "source": "",
   "id": "3fb23e46ea4f1d71"
  }
 ],
 "metadata": {
  "kernelspec": {
   "display_name": "Python 3",
   "language": "python",
   "name": "python3"
  },
  "language_info": {
   "codemirror_mode": {
    "name": "ipython",
    "version": 2
   },
   "file_extension": ".py",
   "mimetype": "text/x-python",
   "name": "python",
   "nbconvert_exporter": "python",
   "pygments_lexer": "ipython2",
   "version": "2.7.6"
  }
 },
 "nbformat": 4,
 "nbformat_minor": 5
}
